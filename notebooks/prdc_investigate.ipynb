{
 "cells": [
  {
   "cell_type": "code",
   "execution_count": 1,
   "metadata": {},
   "outputs": [],
   "source": [
    "import sys\n",
    "import os\n",
    "sys.path.append(os.path.abspath('..'))\n",
    "import pickle\n",
    "import pandas as pd\n",
    "import numpy as np\n",
    "\n",
    "\n",
    "def compute_prdc_results(dataset):\n",
    "    df_list= []\n",
    "    models_list = ['gpt4', 'gpt4_nocol', 'tvae']\n",
    "\n",
    "    n_seed=3\n",
    "\n",
    "    for seed in range(n_seed):\n",
    "\n",
    "        # Initialize an empty DataFrame\n",
    "        df = pd.DataFrame(columns=['n_samples'] + [f'{model} precision' for model in models_list] +\n",
    "                                [f'{model} recall' for model in models_list] +\n",
    "                                [f'{model} auc' for model in models_list])\n",
    "\n",
    "    \n",
    "\n",
    "        for ns in [10, 20, 50, 100]:\n",
    "            filename = f\"./ablate_context/investigate_{dataset}_{seed}_{ns}.pickle\"\n",
    "            try:\n",
    "                with open(filename, 'rb') as handle:\n",
    "                    investigate = pickle.load(handle)\n",
    "\n",
    "            except Exception as e:\n",
    "                print(e)\n",
    "                continue\n",
    "            check = investigate['quality_metrics_oracle']\n",
    "\n",
    "            model_names = investigate['model_names']\n",
    "\n",
    "            # Initialize a row with n_samples\n",
    "            row_data = {'n_samples': ns}\n",
    "\n",
    "            for model in models_list:\n",
    "                if 'gpt3' in model or 'smote' in model:\n",
    "                    continue\n",
    "\n",
    "                try:\n",
    "                    precision = check['PRDCScore'][model]['precision']\n",
    "                    recall = check['PRDCScore'][model]['recall']\n",
    "                    idx = model_names.index(model)\n",
    "                    auc = investigate['auc_list'][idx]\n",
    "                except:\n",
    "                    precision = 0\n",
    "                    recall = 0\n",
    "                    auc = 0\n",
    "\n",
    "                # Add precision, recall, and auc for the current model to the row_data\n",
    "                row_data[f'{model} precision'] = precision\n",
    "                row_data[f'{model} recall'] = recall\n",
    "                row_data[f'{model} auc'] = auc\n",
    "\n",
    "            # Append the row to the DataFrame\n",
    "            df = df.append(row_data, ignore_index=True)\n",
    "\n",
    "        df_list.append(df)\n",
    "\n",
    "\n",
    "    stacked_df = pd.concat(df_list, axis=0)\n",
    "\n",
    "    # Compute the element-wise mean and standard deviation\n",
    "    element_wise_mean = stacked_df.groupby(stacked_df.index).mean()\n",
    "    element_wise_std = stacked_df.groupby(stacked_df.index).sem()\n",
    "\n",
    "\n",
    "    strings = []\n",
    "    for i in range(len(element_wise_mean)):\n",
    "\n",
    "        mean_list = list(element_wise_mean.iloc[i,:])\n",
    "        std_list = list(element_wise_std.iloc[i,:])\n",
    "\n",
    "\n",
    "        script = \"{\\scriptsize\"\n",
    "\n",
    "        final = \"}\"\n",
    "        new = \"\\\\\\\\\"\n",
    "        str_vals = \"\"\n",
    "        for idx, (mean_val, std_val) in enumerate(zip(mean_list, std_list)):\n",
    "            if idx==0:\n",
    "                str_vals+= str(int(mean_val))\n",
    "            else:\n",
    "                str_vals += f\" & ${np.round(mean_val,2)}_{script}({np.round(std_val,2)}){final}$\"\n",
    "\n",
    "        str_vals+=new\n",
    "        strings.append(str_vals)\n",
    "    print(\" \")\n",
    "    print(\"-------------------\")\n",
    "    for mystr in strings:\n",
    "        print(mystr)\n",
    "\n",
    "    print(\" \")\n",
    "    print(\"-------------------\")"
   ]
  },
  {
   "cell_type": "code",
   "execution_count": 2,
   "metadata": {},
   "outputs": [
    {
     "name": "stderr",
     "output_type": "stream",
     "text": [
      "/var/folders/dn/_sc9xwsn55zds45y9hlhjngh0000gn/T/ipykernel_41953/3626304849.py:60: FutureWarning: The frame.append method is deprecated and will be removed from pandas in a future version. Use pandas.concat instead.\n",
      "  df = df.append(row_data, ignore_index=True)\n",
      "/var/folders/dn/_sc9xwsn55zds45y9hlhjngh0000gn/T/ipykernel_41953/3626304849.py:60: FutureWarning: The frame.append method is deprecated and will be removed from pandas in a future version. Use pandas.concat instead.\n",
      "  df = df.append(row_data, ignore_index=True)\n",
      "/var/folders/dn/_sc9xwsn55zds45y9hlhjngh0000gn/T/ipykernel_41953/3626304849.py:60: FutureWarning: The frame.append method is deprecated and will be removed from pandas in a future version. Use pandas.concat instead.\n",
      "  df = df.append(row_data, ignore_index=True)\n",
      "/var/folders/dn/_sc9xwsn55zds45y9hlhjngh0000gn/T/ipykernel_41953/3626304849.py:60: FutureWarning: The frame.append method is deprecated and will be removed from pandas in a future version. Use pandas.concat instead.\n",
      "  df = df.append(row_data, ignore_index=True)\n",
      "/var/folders/dn/_sc9xwsn55zds45y9hlhjngh0000gn/T/ipykernel_41953/3626304849.py:60: FutureWarning: The frame.append method is deprecated and will be removed from pandas in a future version. Use pandas.concat instead.\n",
      "  df = df.append(row_data, ignore_index=True)\n",
      "/var/folders/dn/_sc9xwsn55zds45y9hlhjngh0000gn/T/ipykernel_41953/3626304849.py:60: FutureWarning: The frame.append method is deprecated and will be removed from pandas in a future version. Use pandas.concat instead.\n",
      "  df = df.append(row_data, ignore_index=True)\n",
      "/var/folders/dn/_sc9xwsn55zds45y9hlhjngh0000gn/T/ipykernel_41953/3626304849.py:60: FutureWarning: The frame.append method is deprecated and will be removed from pandas in a future version. Use pandas.concat instead.\n",
      "  df = df.append(row_data, ignore_index=True)\n",
      "/var/folders/dn/_sc9xwsn55zds45y9hlhjngh0000gn/T/ipykernel_41953/3626304849.py:60: FutureWarning: The frame.append method is deprecated and will be removed from pandas in a future version. Use pandas.concat instead.\n",
      "  df = df.append(row_data, ignore_index=True)\n",
      "/var/folders/dn/_sc9xwsn55zds45y9hlhjngh0000gn/T/ipykernel_41953/3626304849.py:60: FutureWarning: The frame.append method is deprecated and will be removed from pandas in a future version. Use pandas.concat instead.\n",
      "  df = df.append(row_data, ignore_index=True)\n"
     ]
    },
    {
     "name": "stdout",
     "output_type": "stream",
     "text": [
      " \n",
      "-------------------\n",
      "10 & $0.41_{\\scriptsize(0.04)}$ & $0.13_{\\scriptsize(0.0)}$ & $0.33_{\\scriptsize(0.07)}$ & $0.87_{\\scriptsize(0.03)}$ & $0.82_{\\scriptsize(0.01)}$ & $0.5_{\\scriptsize(0.03)}$ & $0.74_{\\scriptsize(0.01)}$ & $0.66_{\\scriptsize(0.01)}$ & $0.59_{\\scriptsize(0.02)}$\\\\\n",
      "20 & $0.4_{\\scriptsize(0.01)}$ & $0.11_{\\scriptsize(0.0)}$ & $0.27_{\\scriptsize(0.01)}$ & $0.91_{\\scriptsize(0.01)}$ & $0.89_{\\scriptsize(0.0)}$ & $0.68_{\\scriptsize(0.01)}$ & $0.76_{\\scriptsize(0.0)}$ & $0.69_{\\scriptsize(0.0)}$ & $0.62_{\\scriptsize(0.03)}$\\\\\n",
      "50 & $0.42_{\\scriptsize(0.01)}$ & $0.11_{\\scriptsize(0.01)}$ & $0.39_{\\scriptsize(0.02)}$ & $0.86_{\\scriptsize(0.02)}$ & $0.9_{\\scriptsize(0.01)}$ & $0.67_{\\scriptsize(0.03)}$ & $0.75_{\\scriptsize(0.01)}$ & $0.74_{\\scriptsize(0.01)}$ & $0.64_{\\scriptsize(0.06)}$\\\\\n",
      "100 & $0.44_{\\scriptsize(0.02)}$ & $0.08_{\\scriptsize(0.01)}$ & $0.47_{\\scriptsize(0.0)}$ & $0.85_{\\scriptsize(0.02)}$ & $0.9_{\\scriptsize(0.0)}$ & $0.73_{\\scriptsize(0.01)}$ & $0.75_{\\scriptsize(0.0)}$ & $0.6_{\\scriptsize(0.01)}$ & $0.65_{\\scriptsize(0.02)}$\\\\\n",
      " \n",
      "-------------------\n"
     ]
    },
    {
     "name": "stderr",
     "output_type": "stream",
     "text": [
      "/var/folders/dn/_sc9xwsn55zds45y9hlhjngh0000gn/T/ipykernel_41953/3626304849.py:60: FutureWarning: The frame.append method is deprecated and will be removed from pandas in a future version. Use pandas.concat instead.\n",
      "  df = df.append(row_data, ignore_index=True)\n",
      "/var/folders/dn/_sc9xwsn55zds45y9hlhjngh0000gn/T/ipykernel_41953/3626304849.py:60: FutureWarning: The frame.append method is deprecated and will be removed from pandas in a future version. Use pandas.concat instead.\n",
      "  df = df.append(row_data, ignore_index=True)\n",
      "/var/folders/dn/_sc9xwsn55zds45y9hlhjngh0000gn/T/ipykernel_41953/3626304849.py:60: FutureWarning: The frame.append method is deprecated and will be removed from pandas in a future version. Use pandas.concat instead.\n",
      "  df = df.append(row_data, ignore_index=True)\n"
     ]
    }
   ],
   "source": [
    "compute_prdc_results(dataset='covid')"
   ]
  },
  {
   "cell_type": "code",
   "execution_count": 3,
   "metadata": {},
   "outputs": [
    {
     "name": "stderr",
     "output_type": "stream",
     "text": [
      "/var/folders/dn/_sc9xwsn55zds45y9hlhjngh0000gn/T/ipykernel_41953/3626304849.py:60: FutureWarning: The frame.append method is deprecated and will be removed from pandas in a future version. Use pandas.concat instead.\n",
      "  df = df.append(row_data, ignore_index=True)\n",
      "/var/folders/dn/_sc9xwsn55zds45y9hlhjngh0000gn/T/ipykernel_41953/3626304849.py:60: FutureWarning: The frame.append method is deprecated and will be removed from pandas in a future version. Use pandas.concat instead.\n",
      "  df = df.append(row_data, ignore_index=True)\n",
      "/var/folders/dn/_sc9xwsn55zds45y9hlhjngh0000gn/T/ipykernel_41953/3626304849.py:60: FutureWarning: The frame.append method is deprecated and will be removed from pandas in a future version. Use pandas.concat instead.\n",
      "  df = df.append(row_data, ignore_index=True)\n",
      "/var/folders/dn/_sc9xwsn55zds45y9hlhjngh0000gn/T/ipykernel_41953/3626304849.py:60: FutureWarning: The frame.append method is deprecated and will be removed from pandas in a future version. Use pandas.concat instead.\n",
      "  df = df.append(row_data, ignore_index=True)\n",
      "/var/folders/dn/_sc9xwsn55zds45y9hlhjngh0000gn/T/ipykernel_41953/3626304849.py:60: FutureWarning: The frame.append method is deprecated and will be removed from pandas in a future version. Use pandas.concat instead.\n",
      "  df = df.append(row_data, ignore_index=True)\n",
      "/var/folders/dn/_sc9xwsn55zds45y9hlhjngh0000gn/T/ipykernel_41953/3626304849.py:60: FutureWarning: The frame.append method is deprecated and will be removed from pandas in a future version. Use pandas.concat instead.\n",
      "  df = df.append(row_data, ignore_index=True)\n",
      "/var/folders/dn/_sc9xwsn55zds45y9hlhjngh0000gn/T/ipykernel_41953/3626304849.py:60: FutureWarning: The frame.append method is deprecated and will be removed from pandas in a future version. Use pandas.concat instead.\n",
      "  df = df.append(row_data, ignore_index=True)\n"
     ]
    },
    {
     "name": "stdout",
     "output_type": "stream",
     "text": [
      "[Errno 2] No such file or directory: './ablate_context/investigate_compas_1_100.pickle'\n",
      " \n",
      "-------------------\n",
      "10 & $0.69_{\\scriptsize(0.02)}$ & $0.27_{\\scriptsize(0.03)}$ & $0.43_{\\scriptsize(0.02)}$ & $0.88_{\\scriptsize(0.02)}$ & $0.89_{\\scriptsize(0.03)}$ & $0.43_{\\scriptsize(0.05)}$ & $0.69_{\\scriptsize(0.02)}$ & $0.6_{\\scriptsize(0.03)}$ & $0.55_{\\scriptsize(0.04)}$\\\\\n",
      "20 & $0.7_{\\scriptsize(0.0)}$ & $0.31_{\\scriptsize(0.06)}$ & $0.54_{\\scriptsize(0.02)}$ & $0.92_{\\scriptsize(0.01)}$ & $0.84_{\\scriptsize(0.03)}$ & $0.8_{\\scriptsize(0.02)}$ & $0.65_{\\scriptsize(0.03)}$ & $0.57_{\\scriptsize(0.01)}$ & $0.5_{\\scriptsize(0.04)}$\\\\\n",
      "50 & $0.69_{\\scriptsize(0.02)}$ & $0.34_{\\scriptsize(0.1)}$ & $0.6_{\\scriptsize(0.03)}$ & $0.89_{\\scriptsize(0.02)}$ & $0.85_{\\scriptsize(0.05)}$ & $0.86_{\\scriptsize(0.02)}$ & $0.69_{\\scriptsize(0.01)}$ & $0.62_{\\scriptsize(0.01)}$ & $0.59_{\\scriptsize(0.03)}$\\\\\n",
      "100 & $0.71_{\\scriptsize(0.01)}$ & $0.27_{\\scriptsize(0.07)}$ & $0.66_{\\scriptsize(0.03)}$ & $0.88_{\\scriptsize(0.01)}$ & $0.87_{\\scriptsize(0.05)}$ & $0.89_{\\scriptsize(0.0)}$ & $0.69_{\\scriptsize(0.01)}$ & $0.54_{\\scriptsize(0.05)}$ & $0.62_{\\scriptsize(0.0)}$\\\\\n",
      " \n",
      "-------------------\n"
     ]
    },
    {
     "name": "stderr",
     "output_type": "stream",
     "text": [
      "/var/folders/dn/_sc9xwsn55zds45y9hlhjngh0000gn/T/ipykernel_41953/3626304849.py:60: FutureWarning: The frame.append method is deprecated and will be removed from pandas in a future version. Use pandas.concat instead.\n",
      "  df = df.append(row_data, ignore_index=True)\n",
      "/var/folders/dn/_sc9xwsn55zds45y9hlhjngh0000gn/T/ipykernel_41953/3626304849.py:60: FutureWarning: The frame.append method is deprecated and will be removed from pandas in a future version. Use pandas.concat instead.\n",
      "  df = df.append(row_data, ignore_index=True)\n",
      "/var/folders/dn/_sc9xwsn55zds45y9hlhjngh0000gn/T/ipykernel_41953/3626304849.py:60: FutureWarning: The frame.append method is deprecated and will be removed from pandas in a future version. Use pandas.concat instead.\n",
      "  df = df.append(row_data, ignore_index=True)\n",
      "/var/folders/dn/_sc9xwsn55zds45y9hlhjngh0000gn/T/ipykernel_41953/3626304849.py:60: FutureWarning: The frame.append method is deprecated and will be removed from pandas in a future version. Use pandas.concat instead.\n",
      "  df = df.append(row_data, ignore_index=True)\n"
     ]
    }
   ],
   "source": [
    "compute_prdc_results(dataset='compas')"
   ]
  }
 ],
 "metadata": {
  "kernelspec": {
   "display_name": "llm_env",
   "language": "python",
   "name": "python3"
  },
  "language_info": {
   "codemirror_mode": {
    "name": "ipython",
    "version": 3
   },
   "file_extension": ".py",
   "mimetype": "text/x-python",
   "name": "python",
   "nbconvert_exporter": "python",
   "pygments_lexer": "ipython3",
   "version": "3.10.10"
  },
  "orig_nbformat": 4
 },
 "nbformat": 4,
 "nbformat_minor": 2
}
